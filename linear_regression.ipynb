{
  "nbformat": 4,
  "nbformat_minor": 0,
  "metadata": {
    "colab": {
      "name": "linear_regression.ipynb",
      "provenance": [],
      "collapsed_sections": []
    },
    "kernelspec": {
      "name": "python3",
      "display_name": "Python 3"
    }
  },
  "cells": [
    {
      "cell_type": "markdown",
      "metadata": {
        "id": "yvv1sN4qoXZ5",
        "colab_type": "text"
      },
      "source": [
        "Importing **Libraries**"
      ]
    },
    {
      "cell_type": "code",
      "metadata": {
        "id": "bXQEG8Z9olju",
        "colab_type": "code",
        "colab": {}
      },
      "source": [
        "import numpy as np\n",
        "import pandas as pd\n",
        "import matplotlib.pyplot as plt\n",
        "plt.rcParams['figure.figsize'] = (20.0,10.0)"
      ],
      "execution_count": 0,
      "outputs": []
    },
    {
      "cell_type": "markdown",
      "metadata": {
        "id": "W84j2z7lpMiK",
        "colab_type": "text"
      },
      "source": [
        "# Reading and Loading data"
      ]
    },
    {
      "cell_type": "code",
      "metadata": {
        "id": "MyqxbJXQpbpb",
        "colab_type": "code",
        "colab": {
          "base_uri": "https://localhost:8080/",
          "height": 221
        },
        "outputId": "5d87a812-105d-4471-96da-b8a26d0f4425"
      },
      "source": [
        "dataset = pd.read_csv(\"/content/drive/My Drive/headbrain.csv\")\n",
        "print(dataset.shape)\n",
        "dataset.head()"
      ],
      "execution_count": 5,
      "outputs": [
        {
          "output_type": "stream",
          "text": [
            "(237, 4)\n"
          ],
          "name": "stdout"
        },
        {
          "output_type": "execute_result",
          "data": {
            "text/html": [
              "<div>\n",
              "<style scoped>\n",
              "    .dataframe tbody tr th:only-of-type {\n",
              "        vertical-align: middle;\n",
              "    }\n",
              "\n",
              "    .dataframe tbody tr th {\n",
              "        vertical-align: top;\n",
              "    }\n",
              "\n",
              "    .dataframe thead th {\n",
              "        text-align: right;\n",
              "    }\n",
              "</style>\n",
              "<table border=\"1\" class=\"dataframe\">\n",
              "  <thead>\n",
              "    <tr style=\"text-align: right;\">\n",
              "      <th></th>\n",
              "      <th>Gender</th>\n",
              "      <th>Age Range</th>\n",
              "      <th>Head Size(cm^3)</th>\n",
              "      <th>Brain Weight(grams)</th>\n",
              "    </tr>\n",
              "  </thead>\n",
              "  <tbody>\n",
              "    <tr>\n",
              "      <th>0</th>\n",
              "      <td>1</td>\n",
              "      <td>1</td>\n",
              "      <td>4512</td>\n",
              "      <td>1530</td>\n",
              "    </tr>\n",
              "    <tr>\n",
              "      <th>1</th>\n",
              "      <td>1</td>\n",
              "      <td>1</td>\n",
              "      <td>3738</td>\n",
              "      <td>1297</td>\n",
              "    </tr>\n",
              "    <tr>\n",
              "      <th>2</th>\n",
              "      <td>1</td>\n",
              "      <td>1</td>\n",
              "      <td>4261</td>\n",
              "      <td>1335</td>\n",
              "    </tr>\n",
              "    <tr>\n",
              "      <th>3</th>\n",
              "      <td>1</td>\n",
              "      <td>1</td>\n",
              "      <td>3777</td>\n",
              "      <td>1282</td>\n",
              "    </tr>\n",
              "    <tr>\n",
              "      <th>4</th>\n",
              "      <td>1</td>\n",
              "      <td>1</td>\n",
              "      <td>4177</td>\n",
              "      <td>1590</td>\n",
              "    </tr>\n",
              "  </tbody>\n",
              "</table>\n",
              "</div>"
            ],
            "text/plain": [
              "   Gender  Age Range  Head Size(cm^3)  Brain Weight(grams)\n",
              "0       1          1             4512                 1530\n",
              "1       1          1             3738                 1297\n",
              "2       1          1             4261                 1335\n",
              "3       1          1             3777                 1282\n",
              "4       1          1             4177                 1590"
            ]
          },
          "metadata": {
            "tags": []
          },
          "execution_count": 5
        }
      ]
    },
    {
      "cell_type": "markdown",
      "metadata": {
        "id": "787godT_p7a_",
        "colab_type": "text"
      },
      "source": [
        "Selecting feature and target variables"
      ]
    },
    {
      "cell_type": "code",
      "metadata": {
        "id": "TRPsU7-ypqcZ",
        "colab_type": "code",
        "colab": {}
      },
      "source": [
        "X = dataset['Head Size(cm^3)'].values\n",
        "y = dataset['Brain Weight(grams)'].values"
      ],
      "execution_count": 0,
      "outputs": []
    },
    {
      "cell_type": "markdown",
      "metadata": {
        "id": "PMzxyl0Eq-cS",
        "colab_type": "text"
      },
      "source": [
        "Now we will calculate our mean of X and y"
      ]
    },
    {
      "cell_type": "code",
      "metadata": {
        "id": "li9KjiDTrHuJ",
        "colab_type": "code",
        "colab": {
          "base_uri": "https://localhost:8080/",
          "height": 68
        },
        "outputId": "cac556df-5b6f-417e-b9db-8a57fce30d6a"
      },
      "source": [
        "mean_X = np.mean(X)\n",
        "mean_y = np.mean(y)\n",
        "n = len(X)\n",
        "print(\"mean_X = \",mean_X)\n",
        "print(\"mean_y = \",mean_y)\n",
        "print(\"Total number of values = \",n)"
      ],
      "execution_count": 13,
      "outputs": [
        {
          "output_type": "stream",
          "text": [
            "mean_X =  3633.9915611814345\n",
            "mean_y =  1282.873417721519\n",
            "Total number of values =  237\n"
          ],
          "name": "stdout"
        }
      ]
    },
    {
      "cell_type": "markdown",
      "metadata": {
        "id": "KNOL15UNsZ7f",
        "colab_type": "text"
      },
      "source": [
        "Now in this step we will calculate the values of m and c which will bw used in our line equation"
      ]
    },
    {
      "cell_type": "code",
      "metadata": {
        "id": "ri5ft3_stIDQ",
        "colab_type": "code",
        "colab": {
          "base_uri": "https://localhost:8080/",
          "height": 34
        },
        "outputId": "e0c5ab1d-c6ea-480a-89c6-f98efcd5d8c3"
      },
      "source": [
        "numer = 0\n",
        "denom = 0\n",
        "for i in range(n):\n",
        "  numer += (X[i] - mean_X)*(y[i] - mean_y)\n",
        "  denom += (X[i] - mean_X)**2\n",
        "m = numer / denom\n",
        "c = mean_y - (m * mean_X)\n",
        "# now printing the value of m and c\n",
        "print(m,c)"
      ],
      "execution_count": 15,
      "outputs": [
        {
          "output_type": "stream",
          "text": [
            "0.26342933948939945 325.57342104944223\n"
          ],
          "name": "stdout"
        }
      ]
    },
    {
      "cell_type": "markdown",
      "metadata": {
        "id": "2NSfT6_BvYqE",
        "colab_type": "text"
      },
      "source": [
        "### Now here comes the plotting of values and regression line"
      ]
    },
    {
      "cell_type": "code",
      "metadata": {
        "id": "BzyYisNKviGQ",
        "colab_type": "code",
        "colab": {
          "base_uri": "https://localhost:8080/",
          "height": 337
        },
        "outputId": "2c9f9bea-f9fb-4c88-c8bc-3c851fe0952e"
      },
      "source": [
        "max_X = np.max(X) + 100\n",
        "min_X = np.min(X) - 100\n",
        "\n",
        "# calculating lines values of X and y\n",
        "x = np.linspace(min_X, max_X, 1000)\n",
        "Y = c + m * x\n",
        "\n",
        "# plotting line\n",
        "plt.plot(x, Y, c='g', label='Regression Line')\n",
        "# plotting scatter points\n",
        "plt.scatter(X, y, c='#ef5423', label='Scatter Plot')\n",
        "\n",
        "plt.xlabel('head size in cm3')\n",
        "plt.ylabel('brain weight in grams')\n",
        "plt.legend()\n",
        "plt.show()"
      ],
      "execution_count": 32,
      "outputs": [
        {
          "output_type": "display_data",
          "data": {
            "image/png": "[encoded data removed]",
            "text/plain": [
              "<Figure size 1440x720 with 1 Axes>"
            ]
          },
          "metadata": {
            "tags": [],
            "needs_background": "light"
          }
        }
      ]
    },
    {
      "cell_type": "markdown",
      "metadata": {
        "id": "OwjVedH0aKTu",
        "colab_type": "text"
      },
      "source": [
        "Now here we will check the value of accuracy of our model through R square method"
      ]
    },
    {
      "cell_type": "code",
      "metadata": {
        "id": "8vTif0N1zBOV",
        "colab_type": "code",
        "colab": {
          "base_uri": "https://localhost:8080/",
          "height": 34
        },
        "outputId": "5b346619-d8fd-4f72-c07b-b57e5fb6963f"
      },
      "source": [
        "ss_t = 0\n",
        "ss_r = 0\n",
        "for i in range(n):\n",
        "  y_pred = c + m * X[i]\n",
        "  ss_t += (y[i] - mean_y)**2\n",
        "  ss_r += (y[i] - y_pred)**2\n",
        "R2 = 1 - (ss_r / ss_t)\n",
        "print(R2)"
      ],
      "execution_count": 39,
      "outputs": [
        {
          "output_type": "stream",
          "text": [
            "0.6393117199570003\n"
          ],
          "name": "stdout"
        }
      ]
    },
    {
      "cell_type": "code",
      "metadata": {
        "id": "p51zLDMfcU41",
        "colab_type": "code",
        "colab": {}
      },
      "source": [
        ""
      ],
      "execution_count": 0,
      "outputs": []
    }
  ]
}